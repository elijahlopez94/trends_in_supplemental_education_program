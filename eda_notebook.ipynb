{
 "cells": [
  {
   "cell_type": "markdown",
   "metadata": {},
   "source": [
    "![alt text](path_to_banner_image.jpg)\n",
    "# Trends in Supplemental Education Program\n",
    "Author: Elijah Lopez"
   ]
  },
  {
   "cell_type": "markdown",
   "metadata": {},
   "source": [
    "___ \n",
    "## Overview"
   ]
  },
  {
   "cell_type": "markdown",
   "metadata": {},
   "source": [
    "This analysis outlines actionable strategies to improve lead conversion, customer retention, and program effectiveness for a supplemental education program. To optimize lead conversion, this business should re-engage open leads and inactive accounts, highlight long-term value, and prioritize enrollment efforts during high-interest periods like October. Tailored marketing strategies targeting parents of late-elementary school students in key zip codes combined with seasonal promotions during the summer can further enhance lead generation. Referral programs and upselling private sessions to high schoolers present additional opportunities to boost revenue and engagement.\n",
    "\n",
    "Retention and program effectiveness can be strengthened through active communication with families, clear progress tracking, and incentives for long-term commitments. Monitoring student performance at critical milestones ensures mastery and alignment with family goals, while time-based metrics provide clarity on program expectations and outcomes. By aligning these efforts, this business can foster trust, improve operational efficiency, and deliver meaningful results for both students and families."
   ]
  },
  {
   "cell_type": "markdown",
   "metadata": {},
   "source": [
    "___\n",
    "## Business Problem"
   ]
  },
  {
   "cell_type": "markdown",
   "metadata": {},
   "source": [
    "This supplemental education program seeks to improve its ability to convert prospective leads into active enrollments, retain students for longer periods, and deliver measurable outcomes that align with family expectations. Addressing these challenges requires identifying patterns in lead behavior, tailoring marketing efforts to key demographics, and ensuring that program offerings effectively meet the diverse needs of students."
   ]
  },
  {
   "cell_type": "markdown",
   "metadata": {},
   "source": [
    "___\n",
    "## Contingencies"
   ]
  },
  {
   "cell_type": "markdown",
   "metadata": {},
   "source": [
    "### Sources"
   ]
  },
  {
   "cell_type": "code",
   "execution_count": null,
   "metadata": {},
   "outputs": [],
   "source": [
    "# Leads\n",
    "leads_location = 'data/location_1/leads.csv'\n",
    "\n",
    "# Accounts\n",
    "accounts_location = 'data/location_1/accounts.csv'\n",
    "\n",
    "# Assessment Progress\n",
    "assessment_progress_location = 'data/location_1/assessment_progress.csv'"
   ]
  },
  {
   "cell_type": "markdown",
   "metadata": {},
   "source": [
    "### Imports"
   ]
  },
  {
   "cell_type": "code",
   "execution_count": null,
   "metadata": {},
   "outputs": [],
   "source": [
    "# Standard Data Science Toolkit\n",
    "import pandas as pd\n",
    "import numpy as np\n",
    "import matplotlib.pyplot as plt; plt.style.use(\"ggplot\")\n",
    "%matplotlib inline\n",
    "import seaborn as sns\n",
    "\n",
    "# Inferential Statistical Tests\n",
    "from scipy.stats import f_oneway\n",
    "from statsmodels.stats.multicomp import pairwise_tukeyhsd"
   ]
  },
  {
   "cell_type": "markdown",
   "metadata": {},
   "source": [
    "### Helper Functions"
   ]
  },
  {
   "cell_type": "code",
   "execution_count": null,
   "metadata": {},
   "outputs": [],
   "source": [
    "def standardize_columns(df):\n",
    "    \"\"\"\n",
    "    Makes column names lower case and replaces spaces with underscores.\n",
    "\n",
    "    Parameters:\n",
    "        df (pd.dfFrame) - The data containing the groups and values.\n",
    "\n",
    "    Returns:\n",
    "        df\n",
    "    \"\"\"\n",
    "    \n",
    "    df.columns = df.columns.str.replace(' ', '_').str.lower()\n",
    "    return df"
   ]
  },
  {
   "cell_type": "code",
   "execution_count": null,
   "metadata": {},
   "outputs": [],
   "source": [
    "def plot_categorical(df):\n",
    "    \"\"\"\n",
    "    Identifies categorical columns ('object' datatypes) and plots as horizontal bar chart.\n",
    "\n",
    "    Parameters:\n",
    "        df (pd.dfFrame) - The data containing the groups and values.\n",
    "\n",
    "    Returns:\n",
    "        Plot    \n",
    "    \"\"\"\n",
    "\n",
    "    # Isolate categorical columns\n",
    "    cat_cols = []\n",
    "    for column in df.columns:\n",
    "        if df.dtypes[column] == 'O':\n",
    "            cat_cols.append(column)\n",
    "\n",
    "    # Calculate the number of rows and columns needed, limiting to 3 graphs per row\n",
    "    num_cols_per_row = 3\n",
    "    num_rows = int(np.ceil(len(cat_cols) / num_cols_per_row))\n",
    "\n",
    "    # Create subplots with the dynamic grid\n",
    "    fig, axes = plt.subplots(num_rows, num_cols_per_row, figsize=(15, 5))\n",
    "    axes = axes.flatten()  # Flatten the grid for easy indexing\n",
    "\n",
    "    # Plot each categorical column\n",
    "    for i, column in enumerate(cat_cols):\n",
    "        x = df[column].value_counts().index.astype(str)\n",
    "        y = df[column].value_counts().values\n",
    "        \n",
    "        # Barh plot for the column\n",
    "        axes[i].barh(x, y, color='skyblue')\n",
    "        axes[i].set_title(column)\n",
    "        axes[i].set_xlabel('Count')\n",
    "\n",
    "    # Adjust layout to prevent overlap\n",
    "    return plt.tight_layout();"
   ]
  },
  {
   "cell_type": "code",
   "execution_count": null,
   "metadata": {},
   "outputs": [],
   "source": [
    "def plot_numeric(df):\n",
    "    \"\"\"\n",
    "    Identifies numeric columns ('float64' & 'int64' datatypes) and plots as horizontal bar chart.\n",
    "\n",
    "    Parameters:\n",
    "        df (pd.dfFrame) - The data containing the groups and values.\n",
    "\n",
    "    Returns:\n",
    "        Plot    \n",
    "    \"\"\"\n",
    "\n",
    "    # Isolate numeric columns\n",
    "    num_cols = []\n",
    "    for column in df.columns:\n",
    "        if df.dtypes[column] == 'float64' or df.dtypes[column] == 'int64':\n",
    "            num_cols.append(column)\n",
    "\n",
    "    # Calculate the number of rows needed, limiting 3 graphs per row\n",
    "    num_cols_per_row = 3\n",
    "    num_rows = int(np.ceil(len(num_cols) / num_cols_per_row))\n",
    "\n",
    "    fig, axes = plt.subplots(num_rows, num_cols_per_row, figsize=(12, 6))\n",
    "    axes = axes.flatten()\n",
    "\n",
    "    # Apply to each column\n",
    "    for i, column in enumerate(num_cols):\n",
    "        # Plot a histogram for each numeric column\n",
    "        axes[i].hist(df[column], color='skyblue', edgecolor='black', alpha=0.7)\n",
    "        \n",
    "        # Add title and labels\n",
    "        axes[i].set_title(f'{column}')\n",
    "        # axes[i].set_xlabel(column)\n",
    "        axes[i].set_ylabel('Frequency')\n",
    "\n",
    "    # Adjust layout to prevent overlap\n",
    "    return plt.tight_layout();"
   ]
  },
  {
   "cell_type": "code",
   "execution_count": null,
   "metadata": {},
   "outputs": [],
   "source": [
    "def plot_x_over_time(x, y, title, y_label, line_label, average_label_color='#E2231A'):\n",
    "    \"\"\"\n",
    "    Plots a time series with a line representing the average value.\n",
    "\n",
    "    Parameters:\n",
    "        x (var): Data for x-axis.\n",
    "        y (var): Data for y-axis.\n",
    "        title (str): The chart title.\n",
    "        y_label (str): Label for the y-axis.\n",
    "        line_label (str): Label for the line in the legend.\n",
    "        average_label_color (str): Color for the average line (default: '#E2231A').\n",
    "\n",
    "    Returns:\n",
    "        Plot\n",
    "    \"\"\"\n",
    "\n",
    "    plt.figure(figsize=(12, 6))\n",
    "\n",
    "    # Plot the data\n",
    "    plt.plot(x, y, marker='o', linestyle='-', color='skyblue', label=line_label)\n",
    "\n",
    "    # Calculate and plot the mean\n",
    "    average_value = y.mean()\n",
    "    plt.axhline(y=average_value, color=average_label_color, linestyle='--', label=f'Average ({average_value:.0f})')\n",
    "\n",
    "    # Add title, labels, and legend\n",
    "    plt.title(title)\n",
    "    plt.xlabel('Time')\n",
    "    plt.ylabel(y_label)\n",
    "    plt.legend()\n",
    "    plt.grid(True)\n",
    "    plt.tight_layout()\n",
    "    plt.show();"
   ]
  },
  {
   "cell_type": "code",
   "execution_count": null,
   "metadata": {},
   "outputs": [],
   "source": [
    "def plot_x_per_month(y, title, y_label, bar_color='skyblue', avg_line_color='#E2231A'):\n",
    "    \"\"\"\n",
    "    Plots a bar chart of monthly df with a horizontal line showing the average.\n",
    "\n",
    "    Parameters:\n",
    "        y (var): Data for y-axis, indexed by three letter abbreviation for month.\n",
    "        average (float): The value of the horizontal average line.\n",
    "        title (str): The chart title.\n",
    "        y_label (str): Label for the y-axis.\n",
    "        bar_color (str): The color of the bars (default 'skyblue').\n",
    "        avg_line_color (str): The color of the average line (default '#E2231A').\n",
    "\n",
    "    Returns:\n",
    "        Plot\n",
    "    \"\"\"\n",
    "    \n",
    "    # Sort by the month order\n",
    "    month_order = ['Jan', 'Feb', 'Mar', 'Apr', 'May', 'Jun', 'Jul', 'Aug', 'Sep', 'Oct', 'Nov', 'Dec']\n",
    "    y = y.reindex(month_order)\n",
    "    \n",
    "    # Plot the bar chart\n",
    "    plt.figure(figsize=(10, 6))\n",
    "    y.plot(kind='bar', color=bar_color, label='')\n",
    "    \n",
    "    # Add a horizontal average line\n",
    "    average = y.mean()\n",
    "    plt.axhline(y=average, color=avg_line_color, linestyle='--', label=f'Average ({average:.0f})')\n",
    "    \n",
    "    # Add title and labels\n",
    "    plt.title(title)\n",
    "    plt.xlabel('Month')\n",
    "    plt.ylabel(y_label)\n",
    "    plt.xticks(rotation=0)\n",
    "    plt.legend()\n",
    "    plt.tight_layout()\n",
    "    plt.show();"
   ]
  },
  {
   "cell_type": "code",
   "execution_count": null,
   "metadata": {},
   "outputs": [],
   "source": [
    "def perform_anova(df, group_col, value_col, alpha):\n",
    "    \"\"\"\n",
    "    Performs a one-way ANOVA test to compare means across groups.\n",
    "    \n",
    "    Parameters:\n",
    "        df (pd.dfFrame) - The data containing the groups and values.\n",
    "        group_col (str) - The column name representing the groups\n",
    "        value_col (str) - The column name representing the values to compare\n",
    "        alpha (float) - Confidence level\n",
    "    \n",
    "    Returns:\n",
    "        dict: A dictionary containing the F-Statistic, P-Value, and interpretation\n",
    "    \"\"\"\n",
    "    \n",
    "    # Group the df by the specified group column\n",
    "    grouped = df.groupby(group_col)[value_col]\n",
    "    \n",
    "    # Extract values for each group into separate lists\n",
    "    grouped_values = [grouped.get_group(group).values for group in grouped.groups.keys()]\n",
    "    \n",
    "    # Perform ANOVA test\n",
    "    f_stat, p_value = f_oneway(*grouped_values)\n",
    "    \n",
    "    # Interpretation\n",
    "    result = {\n",
    "        \"F-Statistic\": f_stat,\n",
    "        \"P-Value\": p_value,\n",
    "        \"Significance\": \"Reject the null in favor of the alternative hypothesis.\"\n",
    "        if p_value < 0.05 else \"Fail to reject the null hypothesis.\"\n",
    "    }\n",
    "    \n",
    "    return result"
   ]
  },
  {
   "cell_type": "code",
   "execution_count": null,
   "metadata": {},
   "outputs": [],
   "source": [
    "def perform_tukeys_hsd(df, group_col, value_col, alpha=0.05):\n",
    "    \"\"\"\n",
    "    Perform Tukey's HSD test to determine significant differences between groups \n",
    "    and return results as a DataFrame with significant differences isolated.\n",
    "\n",
    "    Parameters:\n",
    "        df (pd.DataFrame): The data containing the groups and values.\n",
    "        group_col (str): The column representing groups (e.g., 'month').\n",
    "        value_col (str): The column representing the dependent variable (e.g., 'lead_count').\n",
    "        alpha (float): Significance level for the test (default is 0.05).\n",
    "\n",
    "    Returns:\n",
    "        tukey_df (pd.DataFrame): A DataFrame containing Tukey HSD results.\n",
    "        significant_results (pd.DataFrame): Rows with statistically significant differences.\n",
    "    \"\"\"\n",
    "    # Perform Tukey's HSD test\n",
    "    tukey = pairwise_tukeyhsd(\n",
    "        endog=df[value_col],  # The dependent variable\n",
    "        groups=df[group_col],  # The grouping variable\n",
    "        alpha=alpha  # Significance level\n",
    "    )\n",
    "    \n",
    "    # Print the summary\n",
    "    print(tukey)\n",
    "\n",
    "    # Extract Tukey's HSD results into a DataFrame\n",
    "    tukey_df = pd.DataFrame(\n",
    "        data=tukey.summary().data[1:],  # Extract data excluding the header row\n",
    "        columns=tukey.summary().data[0]  # Extract the column names\n",
    "    )\n",
    "\n",
    "    # Isolate statistically significant results\n",
    "    significant_results = tukey_df.loc[tukey_df['reject'] == True]\n",
    "\n",
    "    return significant_results"
   ]
  },
  {
   "cell_type": "code",
   "execution_count": null,
   "metadata": {},
   "outputs": [],
   "source": [
    "def assign_grade_range(grade):\n",
    "    \"\"\"\n",
    "    Assign grade range based on grade\n",
    "\n",
    "    Parameters:\n",
    "        grade from df[col]\n",
    "\n",
    "    Returns:\n",
    "        grade range ('Elementary', 'Middle', or 'High')\n",
    "    \"\"\"\n",
    "\n",
    "    if grade >= 9:\n",
    "        return 'High'\n",
    "    elif 5 < grade < 9:\n",
    "        return 'Middle'\n",
    "    else:\n",
    "        return 'Elementary'"
   ]
  },
  {
   "cell_type": "code",
   "execution_count": null,
   "metadata": {},
   "outputs": [],
   "source": [
    "def plot_histogram(data, title, x_label, mean_median='median', x_ticks_interval=1, bins=None):\n",
    "    \"\"\"\n",
    "    Plots a histogram of a df column with a vertical line showing the median (default) or average.\n",
    "\n",
    "    Parameters:\n",
    "        data (var): Column from data frame to be plotted.\n",
    "        title (str): The chart title.\n",
    "        x_label (str): Label for the x-axis.\n",
    "        mean_median (str): Specify whether to plot the vertical line as the mean or median value.\n",
    "\n",
    "    Returns:\n",
    "        Plot\n",
    "    \"\"\"    \n",
    "    \n",
    "    # Data to plot\n",
    "    data = data\n",
    "    # median = data.median()\n",
    "    x_ticks = range(int(data.min()), int(data.max()) + 1, x_ticks_interval)\n",
    "    \n",
    "    if mean_median == 'median':\n",
    "        vline = data.median()\n",
    "    elif mean_median == 'mean':\n",
    "        vline = data.mean()\n",
    "    else:\n",
    "        vline = None\n",
    "    \n",
    "    if bins is None:\n",
    "        bins = int(data.max() - data.min())\n",
    "    \n",
    "    # Plot\n",
    "    plt.hist(data, bins=bins, color='skyblue')\n",
    "    plt.axvline(x=vline, color='#E2231A', linestyle='--', label=f'{mean_median.title()} ({vline:.1f})')\n",
    "\n",
    "    # Add title and labels\n",
    "    plt.title(title)\n",
    "    plt.xlabel(x_label)\n",
    "    plt.xticks(x_ticks)\n",
    "    plt.ylabel('Frequency')\n",
    "    plt.legend()\n",
    "    plt.tight_layout()\n",
    "    plt.show();"
   ]
  },
  {
   "cell_type": "markdown",
   "metadata": {},
   "source": [
    "___\n",
    "## Leads"
   ]
  },
  {
   "cell_type": "markdown",
   "metadata": {},
   "source": [
    "### Data"
   ]
  },
  {
   "cell_type": "markdown",
   "metadata": {},
   "source": [
    "Lead data comes from two distinct sources. To ensure integrity and usability, I merged the datasets into a unified DataFrame, removing duplicate columns and preserving unique information. Additionally, I anonymized the data to maintain confidentiality and protect proprietary details."
   ]
  },
  {
   "cell_type": "code",
   "execution_count": null,
   "metadata": {},
   "outputs": [],
   "source": [
    "# Inspect Contents\n",
    "leads= pd.read_csv(leads_location)\n",
    "leads = standardize_columns(leads)\n",
    "leads.head()"
   ]
  },
  {
   "cell_type": "code",
   "execution_count": null,
   "metadata": {},
   "outputs": [],
   "source": [
    "# See shape of df\n",
    "leads.shape"
   ]
  },
  {
   "cell_type": "code",
   "execution_count": null,
   "metadata": {},
   "outputs": [],
   "source": [
    "# Replace 0 for NaN in zipcodes\n",
    "leads['zip_code'].replace(0, np.NaN, inplace=True)"
   ]
  },
  {
   "cell_type": "code",
   "execution_count": null,
   "metadata": {},
   "outputs": [],
   "source": [
    "# View Data Types\n",
    "leads.info()"
   ]
  },
  {
   "cell_type": "code",
   "execution_count": null,
   "metadata": {},
   "outputs": [],
   "source": [
    "# Count nulls -- Note: some still exist as non 'null' values\n",
    "leads.isna().sum()"
   ]
  },
  {
   "cell_type": "code",
   "execution_count": null,
   "metadata": {},
   "outputs": [],
   "source": [
    "# Not very helpful for zipcodes\n",
    "leads.describe()"
   ]
  },
  {
   "cell_type": "code",
   "execution_count": null,
   "metadata": {},
   "outputs": [],
   "source": [
    "# Transform created_date to datetime and make index\n",
    "leads['created_date'] = pd.to_datetime(leads['created_date'])\n",
    "leads.sort_values(by='created_date', ascending=True, inplace=True)\n",
    "leads.set_index('created_date', inplace=True)"
   ]
  },
  {
   "cell_type": "code",
   "execution_count": null,
   "metadata": {},
   "outputs": [],
   "source": [
    "# Calculate date range of data\n",
    "leads_min_date = leads.index.min().strftime('%Y-%m-%d')\n",
    "leads_max_date = leads.index.max().strftime('%Y-%m-%d')\n",
    "print(f'The data includes leads from {leads_min_date} to {leads_max_date}.')"
   ]
  },
  {
   "cell_type": "markdown",
   "metadata": {},
   "source": [
    "#### Data Visualization"
   ]
  },
  {
   "cell_type": "code",
   "execution_count": null,
   "metadata": {},
   "outputs": [],
   "source": [
    "plot_categorical(leads)"
   ]
  },
  {
   "cell_type": "markdown",
   "metadata": {},
   "source": [
    "Here we see:\n",
    "* Most leads are 'open' which gives rise to the opportunity of advancement in the pipeline.\n",
    "* Most leads have not been converted, not uncommon in sales.\n",
    "* Mostly balanced split between male and female students. Other may account for non-binary or null information.\n",
    "* Most students are now college level.\n",
    "* Most leads have no specified lead source. Most identified leads come from the internet with location being the second most dominant type."
   ]
  },
  {
   "cell_type": "code",
   "execution_count": null,
   "metadata": {},
   "outputs": [],
   "source": [
    "plot_numeric(leads)"
   ]
  },
  {
   "cell_type": "markdown",
   "metadata": {},
   "source": [
    "This graph does not tell us much because the zip codes are encoded"
   ]
  },
  {
   "cell_type": "markdown",
   "metadata": {},
   "source": [
    "#### Data Summary"
   ]
  },
  {
   "cell_type": "markdown",
   "metadata": {},
   "source": [
    "There are 1,533 leads from Aug 2011 - Dec. 2024 measured on 7 features. These include:\n",
    "* created_date - When the lead first entered the system.\n",
    "* zip_code - Geographic location; masked for anonyminity. 0 Represents null values.\n",
    "* lead_status - Where they are at in the pipelien; 36 untracked leads.\n",
    "* conversion_status - Whether or not they enrolled in service; no nulls.\n",
    "* student_gender - Most nulls (1,159), indicating this data is not collected consistently upon initial lead contact.\n",
    "* grade - 727 null values; 'college' and 'k' are forcing string type. Convert to integers.\n",
    "* lead_source - Nulls represented as 'Not Specified'"
   ]
  },
  {
   "cell_type": "markdown",
   "metadata": {},
   "source": [
    "### Analysis"
   ]
  },
  {
   "cell_type": "markdown",
   "metadata": {},
   "source": [
    "#### Lead Volume Over Time"
   ]
  },
  {
   "cell_type": "code",
   "execution_count": null,
   "metadata": {},
   "outputs": [],
   "source": [
    "# Group leads by month\n",
    "monthly_leads = leads.resample('M').agg(\n",
    "    converted_leads=('conversion_status', lambda x: (x == 'Converted').sum()),      # Use conversion_status because it has no nulls\n",
    "    lead_count=('conversion_status', 'count')     \n",
    ")\n",
    "monthly_leads"
   ]
  },
  {
   "cell_type": "code",
   "execution_count": null,
   "metadata": {},
   "outputs": [],
   "source": [
    "plot_x_over_time(\n",
    "    x=monthly_leads.index,\n",
    "    y=monthly_leads['lead_count'],\n",
    "    title='Average Leads Over Time',\n",
    "    y_label='Average Leads',\n",
    "    line_label='Monthly Leads'\n",
    ")"
   ]
  },
  {
   "cell_type": "markdown",
   "metadata": {},
   "source": [
    "Here we see that leads prior to 2017 were extremely low on a monthly basis. Let's focus on more recent years where the data is more consistent."
   ]
  },
  {
   "cell_type": "code",
   "execution_count": null,
   "metadata": {},
   "outputs": [],
   "source": [
    "# Filter data starting in 2017.\n",
    "# Data should include last full month. End data Nov 2024.\n",
    "filtered_monthly_leads = monthly_leads[(monthly_leads.index >= '2017-01-01') & (monthly_leads.index < '2024-12-01')]"
   ]
  },
  {
   "cell_type": "code",
   "execution_count": null,
   "metadata": {},
   "outputs": [],
   "source": [
    "plot_x_over_time(\n",
    "    x=filtered_monthly_leads.index,\n",
    "    y=filtered_monthly_leads['lead_count'],\n",
    "    title='Average Leads Over Time',\n",
    "    y_label='Average Leads',\n",
    "    line_label='Monthly Leads'\n",
    ")\n",
    "plt.savefig('images/location_1/test.png')"
   ]
  },
  {
   "cell_type": "markdown",
   "metadata": {},
   "source": [
    "Here we see average leads per month is 16."
   ]
  },
  {
   "cell_type": "markdown",
   "metadata": {},
   "source": [
    "#### Lead Volume per Month"
   ]
  },
  {
   "cell_type": "code",
   "execution_count": null,
   "metadata": {},
   "outputs": [],
   "source": [
    "# Create 'month' column and set equal to 3 letter abbreviation\n",
    "filtered_monthly_leads['month'] = filtered_monthly_leads.index.month_name().str[:3]\n",
    "\n",
    "# Group by month and calculate the mean for each\n",
    "monthly_mean = filtered_monthly_leads.groupby('month').mean()\n",
    "\n",
    "monthly_mean"
   ]
  },
  {
   "cell_type": "code",
   "execution_count": null,
   "metadata": {},
   "outputs": [],
   "source": [
    "plot_x_per_month(\n",
    "    y=monthly_mean['lead_count'],\n",
    "    title='Average Leads per Month',\n",
    "    y_label='Average Leads'\n",
    ")"
   ]
  },
  {
   "cell_type": "markdown",
   "metadata": {},
   "source": [
    "Here we see that lead volume is:\n",
    "* Lowest in June (10) & July (8) -- Corresponding with summer\n",
    "* Highest in September (26) and October (31) -- Roughly corresponding with the end of the 1st quarter"
   ]
  },
  {
   "cell_type": "markdown",
   "metadata": {},
   "source": [
    "##### Statistical Testing"
   ]
  },
  {
   "cell_type": "markdown",
   "metadata": {},
   "source": [
    "Because I am comparing multiple groups I will conduct an ANOVA test.\n",
    "* H0: There is not a significant difference in lead volume for different months of the year.\n",
    "* H1: There is a significant difference in lead volume for different months of the year.\n",
    "* Alpha = 0.05"
   ]
  },
  {
   "cell_type": "code",
   "execution_count": null,
   "metadata": {},
   "outputs": [],
   "source": [
    "# Run ANOVA Test\n",
    "perform_anova(filtered_monthly_leads, 'month', 'lead_count', 0.05)"
   ]
  },
  {
   "cell_type": "markdown",
   "metadata": {},
   "source": [
    "Because the above result was significant I will follow up with Tukey's HSD to find which months have a significant difference.\n",
    "* H0: The mean lead volume of month A and month B are not significantly different.\n",
    "* H1: The mean lead volume of month A and month B are significantly different.\n",
    "* Alpha = 0.05"
   ]
  },
  {
   "cell_type": "code",
   "execution_count": null,
   "metadata": {},
   "outputs": [],
   "source": [
    "# Follow up with Tukey's HSD\n",
    "lead_count_tukey = perform_tukeys_hsd(filtered_monthly_leads, 'month', 'lead_count', 0.05)\n",
    "lead_count_tukey"
   ]
  },
  {
   "cell_type": "markdown",
   "metadata": {},
   "source": [
    "* October has significantly more leads than April, May, June, July, and December.\n",
    "* September has significantly more leads than July. \n",
    "* All other months do not show a significant difference"
   ]
  },
  {
   "cell_type": "markdown",
   "metadata": {},
   "source": [
    "#### Number of Leads Converted Over Time"
   ]
  },
  {
   "cell_type": "code",
   "execution_count": null,
   "metadata": {},
   "outputs": [],
   "source": [
    "plot_x_over_time(\n",
    "    x=filtered_monthly_leads.index,\n",
    "    y=filtered_monthly_leads['converted_leads'],\n",
    "    title='Leads Converted Over Time',\n",
    "    y_label='Average Leads Converted',\n",
    "    line_label='Monthly Leads Converted'\n",
    ")"
   ]
  },
  {
   "cell_type": "markdown",
   "metadata": {},
   "source": [
    "Here we see average number of leads converted per month is 5."
   ]
  },
  {
   "cell_type": "markdown",
   "metadata": {},
   "source": [
    "#### Number of Leads Converted per Month"
   ]
  },
  {
   "cell_type": "code",
   "execution_count": null,
   "metadata": {},
   "outputs": [],
   "source": [
    "plot_x_per_month(\n",
    "    y=monthly_mean['converted_leads'],\n",
    "    title='Average Leads Converted per Month',\n",
    "    y_label='Average Leads Converted'\n",
    ")"
   ]
  },
  {
   "cell_type": "markdown",
   "metadata": {},
   "source": [
    "Here we see:\n",
    "* Number of leads converted is lowest in July (summer)\n",
    "* Number of leads converted is highest in September (back to school)"
   ]
  },
  {
   "cell_type": "markdown",
   "metadata": {},
   "source": [
    "##### Statistical Testing"
   ]
  },
  {
   "cell_type": "markdown",
   "metadata": {},
   "source": [
    "Because I am comparing multiple groups I will conduct an ANOVA test.\n",
    "* H0: There is not a significant difference in number of converted leads for different months of the year.\n",
    "* H1: There is a significant difference in number of converted leads for different months of the year.\n",
    "* Alpha = 0.05"
   ]
  },
  {
   "cell_type": "code",
   "execution_count": null,
   "metadata": {},
   "outputs": [],
   "source": [
    "# Run ANOVA Test\n",
    "perform_anova(filtered_monthly_leads, 'month', 'converted_leads', 0.05)"
   ]
  },
  {
   "cell_type": "markdown",
   "metadata": {},
   "source": [
    "Because the above result was significant I will follow up with Tukey's HSD to find which months have a significant difference.\n",
    "* H0: The mean number of converted leads of month A and month B are not significantly different.\n",
    "* H1: The mean number of converted leads of month A and month B are significantly different.\n",
    "* Alpha = 0.05"
   ]
  },
  {
   "cell_type": "code",
   "execution_count": null,
   "metadata": {},
   "outputs": [],
   "source": [
    "# Follow up with Tukey's HSD\n",
    "lead_count_tukey = perform_tukeys_hsd(filtered_monthly_leads, 'month', 'converted_leads', 0.05)\n",
    "lead_count_tukey"
   ]
  },
  {
   "cell_type": "markdown",
   "metadata": {},
   "source": [
    "While the ANOVA test showed a statistically significant result, the difference in means between any two months did not meet the threshold of Tukey's HSD to qualify as a statistically significant result. This suggests that while there may be variation in lead conversions throughout the year, the difference in means between any two months is not large enough to be statistically significant."
   ]
  },
  {
   "cell_type": "markdown",
   "metadata": {},
   "source": [
    "#### Percent Lead Conversion Over Time"
   ]
  },
  {
   "cell_type": "code",
   "execution_count": null,
   "metadata": {},
   "outputs": [],
   "source": [
    "plot_x_over_time(\n",
    "    x=filtered_monthly_leads.index,\n",
    "    y=filtered_monthly_leads['converted_leads'] / filtered_monthly_leads['lead_count'] * 100,\n",
    "    title='Percent Lead Conversion Over Time',\n",
    "    y_label='Lead Conversion (%)',\n",
    "    line_label='Percent Monthly Lead Conversion'\n",
    ")"
   ]
  },
  {
   "cell_type": "markdown",
   "metadata": {},
   "source": [
    "Here we see average lead conversion is 33%."
   ]
  },
  {
   "cell_type": "markdown",
   "metadata": {},
   "source": [
    "#### Percent Lead Conversion per Month"
   ]
  },
  {
   "cell_type": "code",
   "execution_count": null,
   "metadata": {},
   "outputs": [],
   "source": [
    "plot_x_per_month(\n",
    "    y=monthly_mean['converted_leads'] / monthly_mean['lead_count'] * 100,\n",
    "    title='Lead Conversion by Month',\n",
    "    y_label='Lead Conversion (%)'\n",
    ")"
   ]
  },
  {
   "cell_type": "markdown",
   "metadata": {},
   "source": [
    "Here we see that percent lead conversion is:\n",
    "* Lowest in October\n",
    "* Highest in June"
   ]
  },
  {
   "cell_type": "markdown",
   "metadata": {},
   "source": [
    "#### Grade"
   ]
  },
  {
   "cell_type": "markdown",
   "metadata": {},
   "source": [
    "Grade is updated every year to keep track of students over time. We'll have to calculate the grade at time of lead creation to make this useful. Because 'college' (13) is a fixed value, students with that label will be excluded from this calculation.\n",
    "\n",
    "`Note`: This will inherently introduce bias by omitting students in grades nearest to that label."
   ]
  },
  {
   "cell_type": "code",
   "execution_count": null,
   "metadata": {},
   "outputs": [],
   "source": [
    "# Create map to replace 'College' and 'K'\n",
    "grade_map = {\n",
    "    'College': 13,\n",
    "    'K': 0\n",
    "}"
   ]
  },
  {
   "cell_type": "code",
   "execution_count": null,
   "metadata": {},
   "outputs": [],
   "source": [
    "# Apply map to 'grade' column\n",
    "leads['grade'] = leads['grade'].replace(grade_map)"
   ]
  },
  {
   "cell_type": "code",
   "execution_count": null,
   "metadata": {},
   "outputs": [],
   "source": [
    "# Copy Leads df and isolate those where Grade is not 13 or NaN\n",
    "lead_student_grades = leads.copy()\n",
    "lead_student_grades = lead_student_grades.loc[(lead_student_grades['grade'] != 13) & (lead_student_grades['grade'].notna())]"
   ]
  },
  {
   "cell_type": "code",
   "execution_count": null,
   "metadata": {},
   "outputs": [],
   "source": [
    "# Calculate elapsed time\n",
    "lead_student_grades['elapsed_years'] = (pd.to_datetime('now') - lead_student_grades.index)\n",
    "\n",
    "# Convert to years\n",
    "lead_student_grades['elapsed_years'] = round(lead_student_grades['elapsed_years'].dt.total_seconds() / (60 * 60 * 24 * 365.25), 0)\n",
    "lead_student_grades.head()"
   ]
  },
  {
   "cell_type": "code",
   "execution_count": null,
   "metadata": {},
   "outputs": [],
   "source": [
    "lead_student_grades['grade'] = lead_student_grades['grade'].astype(int)\n",
    "lead_student_grades['grade_when_created'] = lead_student_grades['grade'] - lead_student_grades['elapsed_years']\n",
    "lead_student_grades.head()"
   ]
  },
  {
   "cell_type": "code",
   "execution_count": null,
   "metadata": {},
   "outputs": [],
   "source": [
    "lead_student_grades['grade_when_created'].value_counts()"
   ]
  },
  {
   "cell_type": "code",
   "execution_count": null,
   "metadata": {},
   "outputs": [],
   "source": [
    "# Data to plot\n",
    "x = lead_student_grades['grade_when_created'].value_counts().index\n",
    "y = lead_student_grades['grade_when_created'].value_counts().values\n",
    "\n",
    "# Plot\n",
    "plt.bar(x, y, color='skyblue')\n",
    "\n",
    "# Add title and labels\n",
    "plt.title('Student Grade at Lead Creation')\n",
    "plt.xlabel('Grade')\n",
    "plt.xticks(range(int(x.min()), int(x.max()) + 1))\n",
    "plt.ylabel('Number of Leads')\n",
    "plt.show();"
   ]
  },
  {
   "cell_type": "markdown",
   "metadata": {},
   "source": [
    "Here we see that some inquiries happen prior to Kindergarten, while most occur in 5th grade."
   ]
  },
  {
   "cell_type": "markdown",
   "metadata": {},
   "source": [
    "#### Lead Source"
   ]
  },
  {
   "cell_type": "code",
   "execution_count": null,
   "metadata": {},
   "outputs": [],
   "source": [
    "# Isolate Converted Leads\n",
    "converted_leads = leads.loc[leads['conversion_status'] == 'Converted']\n",
    "\n",
    "x = converted_leads['lead_source'].value_counts().index\n",
    "y = converted_leads['lead_source'].value_counts().values\n",
    "\n",
    "plt.barh(x, y);"
   ]
  },
  {
   "cell_type": "markdown",
   "metadata": {},
   "source": [
    "Here we see:\n",
    "* All converted leads show lead source as null.\n",
    "\n",
    "`Note`: After investigating the data source I found that Lead Source is tracked upon conversion but is limited to a small window of accessibility. For that reason I did not import the data to analyze further."
   ]
  },
  {
   "cell_type": "markdown",
   "metadata": {},
   "source": [
    "#### Leads by Zip Code"
   ]
  },
  {
   "cell_type": "code",
   "execution_count": null,
   "metadata": {},
   "outputs": [],
   "source": [
    "# Top 5 Zip Codes by Lead Volume\n",
    "top_zip_codes_count = leads['zip_code'].value_counts().nlargest(5)\n",
    "\n",
    "# Plot\n",
    "top_zip_codes_count.plot(kind='bar', color='skyblue')\n",
    "\n",
    "# Add title and labels\n",
    "plt.title('Top 5 Zip Codes by Lead Count')\n",
    "plt.xlabel('Zip Code')\n",
    "plt.ylabel('Count')\n",
    "plt.xticks(rotation=0)\n",
    "plt.show();"
   ]
  },
  {
   "cell_type": "markdown",
   "metadata": {},
   "source": [
    "Here we see that most leads come from the following zip codes:\n",
    "* 1\n",
    "* 5\n",
    "* 6\n",
    "* 15\n",
    "* 4"
   ]
  },
  {
   "cell_type": "code",
   "execution_count": null,
   "metadata": {},
   "outputs": [],
   "source": [
    "# Top 5 Zip Codes by Conversion\n",
    "top_zip_codes_converted = converted_leads['zip_code'].value_counts().nlargest(5)\n",
    "\n",
    "# Plot\n",
    "top_zip_codes_converted.plot(kind='bar', color='skyblue')\n",
    "\n",
    "# Add title and labels\n",
    "plt.title('Top 5 Zip Codes by Conversion')\n",
    "plt.xlabel('Zip Code')\n",
    "plt.ylabel('Count')\n",
    "plt.xticks(rotation=0)\n",
    "plt.show();"
   ]
  },
  {
   "cell_type": "markdown",
   "metadata": {},
   "source": [
    "Here we see that most enrollments come from the following zip codes:\n",
    "* 1\n",
    "* 5\n",
    "* 6\n",
    "* 15\n",
    "* 4\n",
    "\n",
    "`Note`: The count for converted leads is almost identical to the count for all Leads. This indicates that this information is likely captured upon enrollment, not during initial lead contact."
   ]
  },
  {
   "cell_type": "markdown",
   "metadata": {},
   "source": [
    "### Recommendations"
   ]
  },
  {
   "cell_type": "markdown",
   "metadata": {},
   "source": [
    "* Re-engage with ‘open’ leads to push them further in the pipeline.\n",
    "* Demonstrate long term value to unconverted leads. Incentivize them to come in.\n",
    "* With lead interest highest  at the end of the first quarter, focus on enrollment conversion.\n",
    "    * Despite highest leads in October that is month of lowest percent conversion.\n",
    "* With lead interest lowest over the summer, focus on retention strategies.\n",
    "    * Although June is one of the months with the lowest lead volume, conversion percentage is highest.\n",
    "* Ensure marketing strategy is tailored to target demographic:\n",
    "    * Parents of late-elementary school students (grades 3-5).\n",
    "    * Residents in zip codes 1, 5, and 6."
   ]
  },
  {
   "cell_type": "markdown",
   "metadata": {},
   "source": [
    "___\n",
    "## Accounts"
   ]
  },
  {
   "cell_type": "markdown",
   "metadata": {},
   "source": [
    "### Data"
   ]
  },
  {
   "cell_type": "markdown",
   "metadata": {},
   "source": [
    "Account data comes from two distinct sources. To ensure integrity and usability, I merged the datasets into a unified DataFrame, removing duplicate columns and preserving unique information. Additionally, I anonymized the data to maintain confidentiality and protect proprietary details."
   ]
  },
  {
   "cell_type": "code",
   "execution_count": null,
   "metadata": {},
   "outputs": [],
   "source": [
    "# Inspect contents\n",
    "accounts = pd.read_csv(accounts_location)\n",
    "accounts = standardize_columns(accounts)\n",
    "accounts.head()"
   ]
  },
  {
   "cell_type": "code",
   "execution_count": null,
   "metadata": {},
   "outputs": [],
   "source": [
    "# See shape of df\n",
    "accounts.shape"
   ]
  },
  {
   "cell_type": "code",
   "execution_count": null,
   "metadata": {},
   "outputs": [],
   "source": [
    "# View Data Types\n",
    "accounts.info()"
   ]
  },
  {
   "cell_type": "code",
   "execution_count": null,
   "metadata": {},
   "outputs": [],
   "source": [
    "# Check for nulls -- Thankfully, NONE!\n",
    "accounts.isna().sum()"
   ]
  },
  {
   "cell_type": "code",
   "execution_count": null,
   "metadata": {},
   "outputs": [],
   "source": [
    "# Get stats for numeric columns\n",
    "accounts.describe()"
   ]
  },
  {
   "cell_type": "code",
   "execution_count": null,
   "metadata": {},
   "outputs": [],
   "source": [
    "# See membership types\n",
    "accounts['membership_type'].value_counts()"
   ]
  },
  {
   "cell_type": "code",
   "execution_count": null,
   "metadata": {},
   "outputs": [],
   "source": [
    "# 'total_sessions' is not a cumulative count\n",
    "accounts['total_sessions'].value_counts()"
   ]
  },
  {
   "cell_type": "markdown",
   "metadata": {},
   "source": [
    "#### Data Cleaning & Feature Engineering"
   ]
  },
  {
   "cell_type": "markdown",
   "metadata": {},
   "source": [
    "* grade - Current grade; 'college' and 'k' are forcing string type. Convert to integers.\n",
    "* membership_type - Remove 'credits' and consolidate remaining\n",
    "* primary_enrollment_start - Convert to datetime\n",
    "* primary_enrollment_end - Convert to datetime\n",
    "* enrollment_contract_length - Remove unit from entry. Convert to integers.\n",
    "* enrollment_length_of_stay - Remove unit from entry. Convert to integers."
   ]
  },
  {
   "cell_type": "code",
   "execution_count": null,
   "metadata": {},
   "outputs": [],
   "source": [
    "# Replace 'college' with 13 and 'k' with 0\n",
    "accounts['grade'] = accounts['grade'].replace(grade_map)"
   ]
  },
  {
   "cell_type": "code",
   "execution_count": null,
   "metadata": {},
   "outputs": [],
   "source": [
    "# Remove 'credit' type enrollments from data frame\n",
    "accounts = accounts[accounts['membership_type'] != 'Credits (Monthly Sessions)']"
   ]
  },
  {
   "cell_type": "code",
   "execution_count": null,
   "metadata": {},
   "outputs": [],
   "source": [
    "# Convert enrollment dates to date time\n",
    "accounts['primary_enrollment_start'] = pd.to_datetime(accounts['primary_enrollment_start'])\n",
    "accounts['primary_enrollment_end'] = pd.to_datetime(accounts['primary_enrollment_end'])\n",
    "\n",
    "# Set index to enrollment start date and sort by date\n",
    "accounts.set_index('primary_enrollment_start', inplace=True)\n",
    "accounts.sort_index(ascending=True, inplace=True)"
   ]
  },
  {
   "cell_type": "code",
   "execution_count": null,
   "metadata": {},
   "outputs": [],
   "source": [
    "# Strip enrollment_contract_length & enrollment_length_of_stay of the word 'months'\n",
    "accounts['enrollment_contract_length'] = accounts['enrollment_contract_length'].str.split(' ').str[0]\n",
    "accounts['enrollment_length_of_stay'] = accounts['enrollment_length_of_stay'].str.split(' ').str[0]\n",
    "\n",
    "# Convert to float\n",
    "accounts['enrollment_length_of_stay'] = pd.to_numeric(accounts['enrollment_length_of_stay'], errors='coerce')\n",
    "accounts['enrollment_contract_length'] = pd.to_numeric(accounts['enrollment_contract_length'], errors='coerce')"
   ]
  },
  {
   "cell_type": "code",
   "execution_count": null,
   "metadata": {},
   "outputs": [],
   "source": [
    "# Calculate date range of data\n",
    "accounts_min_date = accounts.index.min().strftime('%Y-%m-%d')\n",
    "accounts_max_date = accounts.index.max().strftime('%Y-%m-%d')\n",
    "print(f'The data includes accounts from {accounts_min_date} to {accounts_max_date}.')"
   ]
  },
  {
   "cell_type": "markdown",
   "metadata": {},
   "source": [
    "#### Data Visualization"
   ]
  },
  {
   "cell_type": "code",
   "execution_count": null,
   "metadata": {},
   "outputs": [],
   "source": [
    "# Plot categorical columns\n",
    "plot_categorical(accounts)"
   ]
  },
  {
   "cell_type": "markdown",
   "metadata": {},
   "source": [
    "Here we see:\n",
    "* Most students are now college level.\n",
    "* Enrollment status is highly skewed toward Inactive.\n",
    "* There are many membership types. Most are near 0 counts with the majority being of the 'Flexible' type."
   ]
  },
  {
   "cell_type": "code",
   "execution_count": null,
   "metadata": {},
   "outputs": [],
   "source": [
    "plot_numeric(accounts)"
   ]
  },
  {
   "cell_type": "markdown",
   "metadata": {},
   "source": [
    "Here we see:\n",
    "* Most contracts are less than one year.\n",
    "* Enrollment length more evenly distributed with mean near 1 year.\n",
    "* Total sessions primarily less than 20.\n",
    "* Hardly any accounts referred."
   ]
  },
  {
   "cell_type": "markdown",
   "metadata": {},
   "source": [
    "#### Data Summary"
   ]
  },
  {
   "cell_type": "markdown",
   "metadata": {},
   "source": [
    "There are 653 accounts from June 2013 - Dec. 2024 measured on 10 features. These include:\n",
    "* grade - Current grade\n",
    "* status - Enrolled or inactive\n",
    "* membership_type - Type of enrollment\n",
    "* primary_enrollment_start - Enrollment start date\n",
    "* primary_enrollment_end - Enrollment end date\n",
    "* enrollment_contract_length - Contract length at signup.\n",
    "* enrollment_length_of_stay - Length of attendance.\n",
    "* total_sessions - Allowable sessions based on enrollment type, NOT total attended.\n",
    "* referral_account - Flag if the account was referred by another cusomter (yes = 1, no = 0)"
   ]
  },
  {
   "cell_type": "markdown",
   "metadata": {},
   "source": [
    "### Analysis"
   ]
  },
  {
   "cell_type": "markdown",
   "metadata": {},
   "source": [
    "#### Enrollments Over Time"
   ]
  },
  {
   "cell_type": "code",
   "execution_count": null,
   "metadata": {},
   "outputs": [],
   "source": [
    "# Group enrollments by month\n",
    "monthly_accounts = accounts['membership_type'].resample('M').count()    # Use membership_type because it has no nulls\n",
    "monthly_accounts.index = pd.to_datetime(monthly_accounts.index)\n",
    "monthly_accounts"
   ]
  },
  {
   "cell_type": "code",
   "execution_count": null,
   "metadata": {},
   "outputs": [],
   "source": [
    "plot_x_over_time(\n",
    "    x=monthly_accounts.index,\n",
    "    y=monthly_accounts.values,\n",
    "    title='Enrollments Over Time',\n",
    "    y_label='Number of Enrollments',\n",
    "    line_label='Enrollments'\n",
    ")"
   ]
  },
  {
   "cell_type": "markdown",
   "metadata": {},
   "source": [
    "Here we see the same issue as before. I'll filter the dataset in the same way."
   ]
  },
  {
   "cell_type": "code",
   "execution_count": null,
   "metadata": {},
   "outputs": [],
   "source": [
    "# Filter date >= 2017-01-01 and group by month\n",
    "filtered_monthly_accounts_start = monthly_accounts[(monthly_accounts.index >= '2017-01-01') & (monthly_accounts.index < '2024-12-01')]\n",
    "\n",
    "plot_x_over_time(\n",
    "    x=filtered_monthly_accounts_start.index,\n",
    "    y=filtered_monthly_accounts_start.values,\n",
    "    title='Enrollments Over Time',\n",
    "    y_label='Number of Enrollments',\n",
    "    line_label='Enrollments'\n",
    ")"
   ]
  },
  {
   "cell_type": "markdown",
   "metadata": {},
   "source": [
    "Here we see that the monthly enrollment average is 7.\n",
    "\n",
    "`Note`: This data includes students that re-enroll and siblings recorded under the same lead account so direct comparison to lead chart above will not match overall Lead Conversion."
   ]
  },
  {
   "cell_type": "markdown",
   "metadata": {},
   "source": [
    "#### Enrollments per Month"
   ]
  },
  {
   "cell_type": "code",
   "execution_count": null,
   "metadata": {},
   "outputs": [],
   "source": [
    "# Create a 'month' column and set equal to 3 letter abbreviation\n",
    "filtered_monthly_accounts_start = filtered_monthly_accounts_start.to_frame()\n",
    "filtered_monthly_accounts_start['month'] = filtered_monthly_accounts_start.index.month_name().str[:3]\n",
    "filtered_monthly_accounts_start.rename(columns={'membership_type': 'enrollments'}, inplace=True)\n",
    "\n",
    "# Group by month and calculate the mean for each\n",
    "enrollment_mean = filtered_monthly_accounts_start.groupby('month').mean()\n",
    "enrollment_mean"
   ]
  },
  {
   "cell_type": "code",
   "execution_count": null,
   "metadata": {},
   "outputs": [],
   "source": [
    "plot_x_per_month(\n",
    "    y=enrollment_mean['enrollments'],\n",
    "    title='Average Enrollments per Month',\n",
    "    y_label='Average Enrollments'\n",
    ")"
   ]
  },
  {
   "cell_type": "markdown",
   "metadata": {},
   "source": [
    "Here we see enrollments are:\n",
    "* Lowest in April (just prior to finals)\n",
    "* Highest in September (back to school)"
   ]
  },
  {
   "cell_type": "markdown",
   "metadata": {},
   "source": [
    "#### Enrollments by Membership Type"
   ]
  },
  {
   "cell_type": "code",
   "execution_count": null,
   "metadata": {},
   "outputs": [],
   "source": [
    "# Check counts of membership types\n",
    "accounts['membership_type'].value_counts()"
   ]
  },
  {
   "cell_type": "code",
   "execution_count": null,
   "metadata": {},
   "outputs": [],
   "source": [
    "# Create map to consolidate membership types\n",
    "def map_program_type(program_type):\n",
    "    if 'Flexible' in program_type:\n",
    "        return 'Flexible'\n",
    "    elif 'Monthly' in program_type:\n",
    "        return 'Monthly Sessions'\n",
    "    elif 'Private' in program_type:\n",
    "        return 'Private Sessions'\n",
    "    elif 'Sessions' in program_type:\n",
    "        return 'Session Packages'\n",
    "    else:\n",
    "        return 'Other'"
   ]
  },
  {
   "cell_type": "code",
   "execution_count": null,
   "metadata": {},
   "outputs": [],
   "source": [
    "# Apply mapping to membership_type\n",
    "accounts['membership_type'] = accounts['membership_type'].apply(map_program_type)\n",
    "membership_type_counts = accounts['membership_type'].value_counts()\n",
    "membership_type_counts"
   ]
  },
  {
   "cell_type": "code",
   "execution_count": null,
   "metadata": {},
   "outputs": [],
   "source": [
    "# Percentage of recurring enrollment types\n",
    "percent_recurring_enrollments = (membership_type_counts['Flexible'] + membership_type_counts['Monthly Sessions']) / membership_type_counts.sum() * 100\n",
    "print(f'The percentage of enrollments that choose a recurring program is: {percent_recurring_enrollments:.0f}%')"
   ]
  },
  {
   "cell_type": "code",
   "execution_count": null,
   "metadata": {},
   "outputs": [],
   "source": [
    "# Data to plot\n",
    "x = accounts['membership_type'].value_counts().index\n",
    "y = accounts['membership_type'].value_counts().values\n",
    "\n",
    "# Plot\n",
    "plt.barh(x, y, color='skyblue')\n",
    "\n",
    "# Add title and labels\n",
    "plt.title('Membership Types and Counts');\n",
    "plt.xlabel('Count')\n",
    "plt.ylabel('Membership Type')\n",
    "plt.show();"
   ]
  },
  {
   "cell_type": "markdown",
   "metadata": {},
   "source": [
    "Here we see that the dominant enrollment type is the 'Flexible' option."
   ]
  },
  {
   "cell_type": "code",
   "execution_count": null,
   "metadata": {},
   "outputs": [],
   "source": [
    "# Isolate memberships by subtype ('total_sessions' allowed)\n",
    "monthly_membership_subtypes = accounts.copy()\n",
    "monthly_sessions = monthly_membership_subtypes['membership_type'] == 'Monthly Sessions'\n",
    "monthly_membership_subtypes.loc[monthly_sessions, 'membership_type'] = monthly_membership_subtypes.loc[monthly_sessions, 'total_sessions'].astype(str) + 'x'"
   ]
  },
  {
   "cell_type": "code",
   "execution_count": null,
   "metadata": {},
   "outputs": [],
   "source": [
    "# Data to plot\n",
    "x = monthly_membership_subtypes['membership_type'].value_counts().index\n",
    "y = monthly_membership_subtypes['membership_type'].value_counts().values\n",
    "\n",
    "# Plot\n",
    "plt.barh(x, y, color='skyblue')\n",
    "\n",
    "# Add title and labels\n",
    "plt.title('Membership Types and Counts');\n",
    "plt.xlabel('Count')\n",
    "plt.ylabel('Membership Type')\n",
    "plt.show();"
   ]
  },
  {
   "cell_type": "markdown",
   "metadata": {},
   "source": [
    "Here we see that of the monthly membership options, the 8x program subtype is most common."
   ]
  },
  {
   "cell_type": "markdown",
   "metadata": {},
   "source": [
    "#### Enrollments by Grade Range"
   ]
  },
  {
   "cell_type": "code",
   "execution_count": null,
   "metadata": {},
   "outputs": [],
   "source": [
    "# Copy Accounts df and isolate those where Grade is not NaN or 13\n",
    "account_student_grades = accounts.copy()\n",
    "account_student_grades = account_student_grades.loc[(account_student_grades['grade'] != 13) & (account_student_grades['grade'].notna())]\n",
    "\n",
    "# Calculate elapsed time\n",
    "account_student_grades['elapsed_years'] = (pd.to_datetime('now') - account_student_grades.index)\n",
    "\n",
    "# Convert to years\n",
    "account_student_grades['elapsed_years'] = round(account_student_grades['elapsed_years'].dt.total_seconds() / (60 * 60 * 24 * 365.25), 0)\n",
    "account_student_grades.head()\n",
    "\n",
    "account_student_grades['grade'] = account_student_grades['grade'].astype(int)\n",
    "account_student_grades['grade_when_created'] = account_student_grades['grade'] - account_student_grades['elapsed_years']\n",
    "account_student_grades.head()"
   ]
  },
  {
   "cell_type": "code",
   "execution_count": null,
   "metadata": {},
   "outputs": [],
   "source": [
    "# Data to plot\n",
    "x = account_student_grades['grade_when_created'].value_counts().index\n",
    "y = account_student_grades['grade_when_created'].value_counts().values\n",
    "\n",
    "# Plot\n",
    "plt.bar(x, y, color='skyblue')\n",
    "\n",
    "# Add title and labels\n",
    "plt.title('Student Grade at Enrollment')\n",
    "plt.xlabel('Grade')\n",
    "plt.xticks(range(int(x.min()), int(x.max()) + 1))\n",
    "plt.ylabel('Number of Enrollments')\n",
    "plt.show();"
   ]
  },
  {
   "cell_type": "markdown",
   "metadata": {},
   "source": [
    "Here we see that:\n",
    "* Inquiries start coming in 3 years prior to kindergarten (0).\n",
    "* Student enrollment is highest for 5th graders.\n",
    "* Data is normally distributed."
   ]
  },
  {
   "cell_type": "code",
   "execution_count": null,
   "metadata": {},
   "outputs": [],
   "source": [
    "# Create new column for grade range\n",
    "account_student_grades['grade_range'] = account_student_grades['grade_when_created'].apply(assign_grade_range)"
   ]
  },
  {
   "cell_type": "code",
   "execution_count": null,
   "metadata": {},
   "outputs": [],
   "source": [
    "account_student_grades.head()"
   ]
  },
  {
   "cell_type": "code",
   "execution_count": null,
   "metadata": {},
   "outputs": [],
   "source": [
    "account_student_grades['grade_range'].value_counts()"
   ]
  },
  {
   "cell_type": "code",
   "execution_count": null,
   "metadata": {},
   "outputs": [],
   "source": [
    "# Group by grade_range and membership_type\n",
    "membership_by_grade_range = account_student_grades.groupby(['grade_range', 'membership_type']).size()\n",
    "membership_by_grade_range"
   ]
  },
  {
   "cell_type": "code",
   "execution_count": null,
   "metadata": {},
   "outputs": [],
   "source": [
    "# Create pivot table\n",
    "membership_pivot = membership_by_grade_range.unstack(fill_value=0)\n",
    "membership_percent = membership_pivot.div(membership_pivot.sum(axis=1), axis=0)  # Row-wise normalization"
   ]
  },
  {
   "cell_type": "code",
   "execution_count": null,
   "metadata": {},
   "outputs": [],
   "source": [
    "# Specify display order\n",
    "grade_order = ['Elementary', 'Middle', 'High']\n",
    "membership_percent.index = pd.CategoricalIndex(membership_percent.index, categories=grade_order, ordered=True)\n",
    "membership_percent = membership_percent.sort_index() * 100\n",
    "\n",
    "# Plot side-by-side percentage bars\n",
    "membership_percent.plot(\n",
    "    figsize=(10, 6),\n",
    "    kind='bar',\n",
    "    stacked=False,\n",
    "    color=['skyblue', 'green', 'purple', '#E2231A', 'orange']\n",
    ")\n",
    "\n",
    "# Add title and labels\n",
    "plt.title('Percentage of Membership Types by Grade Range')\n",
    "plt.xlabel('Grade Range')\n",
    "plt.xticks(rotation=0)\n",
    "plt.ylabel('Percentage')\n",
    "plt.legend(title='Membership Type', bbox_to_anchor=(1.05, 1), loc='upper left')  # Move legend outside the plot\n",
    "plt.tight_layout()\n",
    "plt.show();"
   ]
  },
  {
   "cell_type": "markdown",
   "metadata": {},
   "source": [
    "Here we see:\n",
    "* Elementar school students predominantly enroll in the flexible membership option.\n",
    "* Middle school students still enroll in the flexible option most often but with monthly sessions a closer second option.\n",
    "* High school students enroll in near-equal numbers for the flexible and monthly options with a large jump in private session enrollments."
   ]
  },
  {
   "cell_type": "markdown",
   "metadata": {},
   "source": [
    "#### Cancelations Over Time"
   ]
  },
  {
   "cell_type": "markdown",
   "metadata": {},
   "source": [
    "Enrollment End Dates by Month"
   ]
  },
  {
   "cell_type": "code",
   "execution_count": null,
   "metadata": {},
   "outputs": [],
   "source": [
    "# Copy accounts df and set primary_enrollment_end as the index\n",
    "accounts_end = accounts.copy()\n",
    "accounts_end.set_index('primary_enrollment_end', inplace=True)\n",
    "\n",
    "# Filter date >= 2017-01-01 and group by month\n",
    "filtered_accounts_end = accounts_end[(accounts_end.index >= '2017-01-01') & (accounts_end.index < '2024-12-01')]\n",
    "filtered_monthly_accounts_end = filtered_accounts_end['membership_type'].resample('M').count()    # Use membership_type because it has no nulls\n",
    "filtered_monthly_accounts_end.index = pd.to_datetime(filtered_monthly_accounts_end.index)\n",
    "filtered_monthly_accounts_end.head()"
   ]
  },
  {
   "cell_type": "code",
   "execution_count": null,
   "metadata": {},
   "outputs": [],
   "source": [
    "plot_x_over_time(\n",
    "    x=filtered_monthly_accounts_end.index,\n",
    "    y=filtered_monthly_accounts_end.values,\n",
    "    title='Cancelations Over Time',\n",
    "    y_label='Number of Cancelations',\n",
    "    line_label='Cancelations'\n",
    ")"
   ]
  },
  {
   "cell_type": "markdown",
   "metadata": {},
   "source": [
    "Here we see that average monthly cancelations is 6."
   ]
  },
  {
   "cell_type": "markdown",
   "metadata": {},
   "source": [
    "#### Cancelations per Month"
   ]
  },
  {
   "cell_type": "code",
   "execution_count": null,
   "metadata": {},
   "outputs": [],
   "source": [
    "# Create a 'month' column and set equal to 3 letter abbreviation\n",
    "filtered_monthly_accounts_end = filtered_monthly_accounts_end.to_frame()\n",
    "filtered_monthly_accounts_end['month'] = filtered_monthly_accounts_end.index.month_name().str[:3]\n",
    "filtered_monthly_accounts_end.rename(columns={'membership_type': 'cancelations'}, inplace=True)\n",
    "\n",
    "# Group by month and calculate the mean for each\n",
    "cancelation_mean = filtered_monthly_accounts_end.groupby('month').mean()\n",
    "cancelation_mean"
   ]
  },
  {
   "cell_type": "markdown",
   "metadata": {},
   "source": [
    "It's a little peculiar that August is so high given that it is the start of the school year. Let's check for outliers."
   ]
  },
  {
   "cell_type": "code",
   "execution_count": null,
   "metadata": {},
   "outputs": [],
   "source": [
    "# August has severl high cancelation years so we'll leave it as is\n",
    "filtered_monthly_accounts_end.loc[filtered_monthly_accounts_end['month'] == 'Aug']"
   ]
  },
  {
   "cell_type": "code",
   "execution_count": null,
   "metadata": {},
   "outputs": [],
   "source": [
    "plot_x_per_month(\n",
    "    y=cancelation_mean['cancelations'],\n",
    "    title='Average Cancelations per Month',\n",
    "    y_label='Average Canccelations'\n",
    ")"
   ]
  },
  {
   "cell_type": "markdown",
   "metadata": {},
   "source": [
    "Here we see that cancelations are:\n",
    "* Lowest in November (middle of second quarter).\n",
    "* Highest in August (start of new school year; \"we'll see how this year goes\")."
   ]
  },
  {
   "cell_type": "markdown",
   "metadata": {},
   "source": [
    "#### Net Monthly Change in Enrollments"
   ]
  },
  {
   "cell_type": "code",
   "execution_count": null,
   "metadata": {},
   "outputs": [],
   "source": [
    "# Check structure\n",
    "enrollment_mean"
   ]
  },
  {
   "cell_type": "code",
   "execution_count": null,
   "metadata": {},
   "outputs": [],
   "source": [
    "# Check structure\n",
    "cancelation_mean"
   ]
  },
  {
   "cell_type": "code",
   "execution_count": null,
   "metadata": {},
   "outputs": [],
   "source": [
    "# Calculate net monthly change in enrollments\n",
    "month_order = ['Jan', 'Feb', 'Mar', 'Apr', 'May', 'Jun', 'Jul', 'Aug', 'Sep', 'Oct', 'Nov', 'Dec']\n",
    "\n",
    "net_monthly_change = enrollment_mean['enrollments'].reindex(month_order) - cancelation_mean['cancelations'].reindex(month_order)\n",
    "net_monthly_change"
   ]
  },
  {
   "cell_type": "code",
   "execution_count": null,
   "metadata": {},
   "outputs": [],
   "source": [
    "# Plot\n",
    "plt.figure(figsize=(10, 6))\n",
    "colors = ['#E2231A' if value < 0 else 'skyblue' for value in net_monthly_change]\n",
    "net_monthly_change.plot(kind='bar', color=colors, legend=False)\n",
    "plt.axhline(0, color='black')  # Add a reference line at 0\n",
    "\n",
    "# Add title and labels\n",
    "plt.title('Average Net Monthly Change')\n",
    "plt.xlabel('Month')\n",
    "plt.ylabel('Average Change in Enrollments')\n",
    "plt.xticks(rotation=0)\n",
    "plt.tight_layout();"
   ]
  },
  {
   "cell_type": "markdown",
   "metadata": {},
   "source": [
    "Here we see that:\n",
    "* There are 6 months of the year that have net negative enrollment (more cancelations than enrollments) with August being the worst month.\n",
    "* There are 6 months of the year that have net positive enrollment (more enrollments than cancelations) with September being the best month."
   ]
  },
  {
   "cell_type": "markdown",
   "metadata": {},
   "source": [
    "#### Enrollment Completion"
   ]
  },
  {
   "cell_type": "code",
   "execution_count": null,
   "metadata": {},
   "outputs": [],
   "source": [
    "# Percentage of families that cancel before they complete their agreement\n",
    "early_cancel = accounts.loc[accounts['enrollment_length_of_stay'] < accounts['enrollment_contract_length']]\n",
    "early_cancel_percentage = len(early_cancel) / len(accounts) * 100\n",
    "print(f'The percentage of families that complete their entire enrollment agreement is {100 - early_cancel_percentage:.0f}%')\n",
    "print(f'The percentage of families that cancel their program before the end of their agreement is: {early_cancel_percentage:.0f}%')"
   ]
  },
  {
   "cell_type": "code",
   "execution_count": null,
   "metadata": {},
   "outputs": [],
   "source": [
    "mean_length_of_stay = accounts['enrollment_length_of_stay'].mean()\n",
    "print(f'On average students stay enrolled for {mean_length_of_stay:.1f} months per enrollment agreeement.')"
   ]
  },
  {
   "cell_type": "code",
   "execution_count": null,
   "metadata": {},
   "outputs": [],
   "source": [
    "accounts['enrollment_length_of_stay'].loc[accounts['enrollment_length_of_stay'] < 0]"
   ]
  },
  {
   "cell_type": "code",
   "execution_count": null,
   "metadata": {},
   "outputs": [],
   "source": [
    "plot_histogram"
   ]
  },
  {
   "cell_type": "code",
   "execution_count": null,
   "metadata": {},
   "outputs": [],
   "source": [
    "# Visualize\n",
    "# Filtered less than 40 to exclude outliers and enhance visual\n",
    "plot_histogram(\n",
    "    data=accounts['enrollment_length_of_stay'].loc[(accounts['enrollment_length_of_stay'] >= 0) & (accounts['enrollment_length_of_stay'] < 40)],\n",
    "    title='Distribution of Lenth of Enrollment',\n",
    "    x_label='Months',\n",
    "    x_ticks_interval=5\n",
    ")"
   ]
  },
  {
   "cell_type": "markdown",
   "metadata": {},
   "source": [
    "Here we see that length of enrollment is skewed right. Median length of enrollment is 4.6 months."
   ]
  },
  {
   "cell_type": "markdown",
   "metadata": {},
   "source": [
    "### Recommendations"
   ]
  },
  {
   "cell_type": "markdown",
   "metadata": {},
   "source": [
    "* Re-engage ‘inactive’ accounts for re-enrollment.\n",
    "* Create a referral program to simultaneously increase revenue and reputation.\n",
    "* Tailor program offering to grade range.\n",
    "* Upsell current customers by offering private sessions at key times of the year.\n",
    "* Increase retention through active communication and progress reporting, especially leading up to August.\n",
    "* Incentivize longer commitments to increase average length of stay."
   ]
  },
  {
   "cell_type": "markdown",
   "metadata": {},
   "source": [
    "___\n",
    "## Student Progress per Assessment Level"
   ]
  },
  {
   "cell_type": "markdown",
   "metadata": {},
   "source": [
    "### Data"
   ]
  },
  {
   "cell_type": "markdown",
   "metadata": {},
   "source": [
    "Assessment data comes from a single source. I anonymized the data to maintain confidentiality and protect proprietary details."
   ]
  },
  {
   "cell_type": "code",
   "execution_count": null,
   "metadata": {},
   "outputs": [],
   "source": [
    "# Inspect contents\n",
    "assessment_progress = pd.read_csv(assessment_progress_location)\n",
    "assessment_progress = standardize_columns(assessment_progress)\n",
    "assessment_progress.head()"
   ]
  },
  {
   "cell_type": "code",
   "execution_count": null,
   "metadata": {},
   "outputs": [],
   "source": [
    "# Set index to pre-assessment date and sort by date\n",
    "assessment_progress['pre_assess_date'] = pd.to_datetime(assessment_progress['pre_assess_date'])\n",
    "assessment_progress.sort_values(by='pre_assess_date', ascending=True, inplace=True)\n",
    "assessment_progress.set_index('pre_assess_date', inplace=True)"
   ]
  },
  {
   "cell_type": "code",
   "execution_count": null,
   "metadata": {},
   "outputs": [],
   "source": [
    "assessment_progress.shape"
   ]
  },
  {
   "cell_type": "code",
   "execution_count": null,
   "metadata": {},
   "outputs": [],
   "source": [
    "# Check data types\n",
    "assessment_progress.info()"
   ]
  },
  {
   "cell_type": "code",
   "execution_count": null,
   "metadata": {},
   "outputs": [],
   "source": [
    "# Check for nulls\n",
    "assessment_progress.isna().sum()"
   ]
  },
  {
   "cell_type": "code",
   "execution_count": null,
   "metadata": {},
   "outputs": [],
   "source": [
    "# Get stats for numeric columns\n",
    "assessment_progress.describe()"
   ]
  },
  {
   "cell_type": "markdown",
   "metadata": {},
   "source": [
    "#### Data Cleaning & Feature Engineering"
   ]
  },
  {
   "cell_type": "markdown",
   "metadata": {},
   "source": [
    "* grade_on_post_dt. - Convert to int.\n",
    "* assessment_level - Can be used to calculate disparity between grade and perforance. Convert to int.\n",
    "* post_assess_date - Convert to datetime.\n",
    "\n",
    "Will need to look at nulls:\n",
    "* 15 in grade_on_post_dt.\n",
    "* 18 in several other columns (same data?)"
   ]
  },
  {
   "cell_type": "code",
   "execution_count": null,
   "metadata": {},
   "outputs": [],
   "source": [
    "# Use grade_map to replace 'K' and 'College'\n",
    "assessment_progress['grade_on_post_dt.'] = assessment_progress['grade_on_post_dt.'].replace(grade_map)\n",
    "\n",
    "# Make post_assess_date datetime\n",
    "assessment_progress['post_assess_date'] = pd.to_datetime(assessment_progress['post_assess_date'])"
   ]
  },
  {
   "cell_type": "code",
   "execution_count": null,
   "metadata": {},
   "outputs": [],
   "source": [
    "# See all assessments with Null grade_on_post_dt. to look for patterns\n",
    "assessment_progress.loc[assessment_progress['grade_on_post_dt.'].isna() == True]"
   ]
  },
  {
   "cell_type": "code",
   "execution_count": null,
   "metadata": {},
   "outputs": [],
   "source": [
    "# Find the median post grade for each assessment level\n",
    "median_post_grade_per_assessment_level = assessment_progress.groupby(['assessment_level'])['grade_on_post_dt.'].median()\n",
    "\n",
    "# Fill nulls with asessment-level median grade\n",
    "assessment_progress['grade_on_post_dt.'] = assessment_progress['grade_on_post_dt.'].fillna(\n",
    "    assessment_progress['assessment_level'].map(median_post_grade_per_assessment_level)\n",
    ")"
   ]
  },
  {
   "cell_type": "code",
   "execution_count": null,
   "metadata": {},
   "outputs": [],
   "source": [
    "# NF type assessment gets assigned a mastery level, not a numeric score. \n",
    "# Because structure and depth of learning plan differ from other types of assessments I'll drop these.\n",
    "assessment_progress.loc[assessment_progress['pre_assess_score'].isna() == True]"
   ]
  },
  {
   "cell_type": "code",
   "execution_count": null,
   "metadata": {},
   "outputs": [],
   "source": [
    "# Calculate percent of assessments that are NF\n",
    "percentage_nf_assessments = len(assessment_progress.loc[assessment_progress['pre_assess_score'].isna() == True]) / len(assessment_progress) * 100\n",
    "print(f'{percentage_nf_assessments:.0f}% of all assessments are NF.')"
   ]
  },
  {
   "cell_type": "code",
   "execution_count": null,
   "metadata": {},
   "outputs": [],
   "source": [
    "# Drop NF-type assessments\n",
    "assessment_progress = assessment_progress.dropna()"
   ]
  },
  {
   "cell_type": "code",
   "execution_count": null,
   "metadata": {},
   "outputs": [],
   "source": [
    "# Convert grade_on_post_dt. and assessment_level to numeric columns\n",
    "assessment_progress['grade_on_post_dt.'] = pd.to_numeric(assessment_progress['grade_on_post_dt.'])\n",
    "assessment_progress['assessment_level'] = pd.to_numeric(assessment_progress['assessment_level'])"
   ]
  },
  {
   "cell_type": "code",
   "execution_count": null,
   "metadata": {},
   "outputs": [],
   "source": [
    "# Calculate performance relative to grade level\n",
    "assessment_progress['relative_performance'] = assessment_progress['assessment_level'] - assessment_progress['grade_on_post_dt.']"
   ]
  },
  {
   "cell_type": "markdown",
   "metadata": {},
   "source": [
    "#### Data Visualization"
   ]
  },
  {
   "cell_type": "code",
   "execution_count": null,
   "metadata": {},
   "outputs": [],
   "source": [
    "plot_numeric(assessment_progress)"
   ]
  },
  {
   "cell_type": "markdown",
   "metadata": {},
   "source": [
    "Here we see that:\n",
    "* Grade at time of post assessment peaks around 4th grade.\n",
    "* Levels 3-4 are the most common assessment types.\n",
    "* Most students take the post-assessment 1-2 times.\n",
    "* Pre assessment scores aretypically in the range of 30-70%.\n",
    "* Post assessment scores have a strong downward skew (higher scores increasingly more frequent).\n",
    "* Number of PKs mastered per level is primarily less than 30.\n",
    "* Score improvement is around 25-35%.\n",
    "* Improvement per session is concentrated in a small range.\n",
    "* Improvemnet per month is concentrated in a small range.\n",
    "* Attendance has strong positive skew.\n",
    "* Relative performance is mostly 2 years under grade level to at grade level."
   ]
  },
  {
   "cell_type": "markdown",
   "metadata": {},
   "source": [
    "#### Data Summary"
   ]
  },
  {
   "cell_type": "markdown",
   "metadata": {},
   "source": [
    "Assessment data includes all assessments for students where at least one post assessment has been attempted. There are 356 assessments matching this criteria from 2000-01-01 to 2024-12-09. Each assessment is measured across 12 features:\n",
    "* grade_on_post_dt. - Grade of student at time of post assessment.\n",
    "* assessment_level - Grade level equivalent of student performance. NF assessments (5% of total) were dropped.\n",
    "* #_post_attempts - Number of attempts on post-assessment (>= 80 moves to next assessment level).\n",
    "* pre_assess_score - Range between 8-100% with mean and median near 45%.\n",
    "* post_assess_score - Range between 11-100% with mean and median near 80%.\n",
    "* post_assess_date - Date of post-assessment.\n",
    "* #_pks_mastered - Lessons mastered between pre and post dates. Mean is 14, median is 11.\n",
    "* score_improvement - Change in score from pre-assessment to post-assessment.\n",
    "* improvement/session - Improvement divided by attendance for assessment level. \n",
    "* improvement/month - Improvement divided by time between pre and post assessment. Roughly +6-7% per month.\n",
    "* attendance_count_in_center - Number of sessions in assessment period. Positive skew with mean at 33 and median at 25.\n",
    "* relative_performance - Comparison of student assessment level to grade level. A negative value indicates they are below grade level. "
   ]
  },
  {
   "cell_type": "markdown",
   "metadata": {},
   "source": [
    "### Analysis"
   ]
  },
  {
   "cell_type": "markdown",
   "metadata": {},
   "source": [
    "#### Relative Student Performance"
   ]
  },
  {
   "cell_type": "code",
   "execution_count": null,
   "metadata": {},
   "outputs": [],
   "source": [
    "# Median test-taker relative_performance\n",
    "median_relative_performance = assessment_progress['relative_performance'].median()\n",
    "print(f'Students who have completed a pre-assessment and post-assessment for the same level are, on approximately {median_relative_performance:.1f} grades from grade level.')"
   ]
  },
  {
   "cell_type": "code",
   "execution_count": null,
   "metadata": {},
   "outputs": [],
   "source": [
    "# Visualize\n",
    "plot_histogram(\n",
    "    data=assessment_progress['relative_performance'],\n",
    "    title='Distribution of Relative Student Performance',\n",
    "    x_label='Performance Relative to Grade Level',\n",
    ")"
   ]
  },
  {
   "cell_type": "markdown",
   "metadata": {},
   "source": [
    "Here we see that relative student performance:\n",
    "* Ranges from 8 years below grade level to 3 years above grade level.\n",
    "* Median 1.0 year below grade level.\n",
    "\n",
    "`NOTE`: This includes data for students that have completed multiple levels and excludes students that have yet to take a post assessment. Therefore students entering the program are likely below the median."
   ]
  },
  {
   "cell_type": "markdown",
   "metadata": {},
   "source": [
    "#### Performance per Post-Assessment Attempt"
   ]
  },
  {
   "cell_type": "code",
   "execution_count": null,
   "metadata": {},
   "outputs": [],
   "source": [
    "# Loop calculates average change in assessment score based on number of attempts\n",
    "\n",
    "# Initialize\n",
    "cumulative_performance = 0\n",
    "performance_per_attempt = []\n",
    "\n",
    "for attempt in range(1, assessment_progress['#_post_attempts'].max() + 1):\n",
    "\n",
    "    # Calculate current iteration performance and take away effects of previous iterations\n",
    "    current_performance = assessment_progress.loc[assessment_progress['#_post_attempts'] == attempt]['score_improvement'].mean() - cumulative_performance\n",
    "    print(f\"Average performance after {attempt} attempt(s) is: {(current_performance) * 100:.1f}%\")\n",
    "\n",
    "    # Add to cumulative performance for deduction in later iterations\n",
    "    cumulative_performance += current_performance\n",
    "    performance_per_attempt.append((attempt, current_performance * 100))"
   ]
  },
  {
   "cell_type": "code",
   "execution_count": null,
   "metadata": {},
   "outputs": [],
   "source": [
    "performance_per_attempt"
   ]
  },
  {
   "cell_type": "code",
   "execution_count": null,
   "metadata": {},
   "outputs": [],
   "source": [
    "# Data to plot\n",
    "performance_df = pd.DataFrame(performance_per_attempt, columns=['attempt', 'performance'])\n",
    "x = performance_df['attempt']\n",
    "y = performance_df['performance']\n",
    "\n",
    "colors = ['#E2231A' if value < 0 else 'skyblue' for value in performance_df['performance']]\n",
    "\n",
    "# Plot\n",
    "plt.figure(figsize=(10, 6))\n",
    "plt.bar(x, y, color=colors)\n",
    "plt.axhline(0, color='black')  # Add a reference line at 0\n",
    "\n",
    "# Add title and labels\n",
    "plt.title('Performance Change by Post-Assessment Attempt')\n",
    "plt.xlabel('Attempt Number')\n",
    "plt.ylabel('Average Change (%)')\n",
    "plt.tight_layout()\n",
    "plt.show();"
   ]
  },
  {
   "cell_type": "markdown",
   "metadata": {},
   "source": [
    "Here we see a strong initial increase in scoring from pre-assessment to post-assessment followed by moderate growth on subsequent attempts before finally declining. The decrease in performance over time may be caused by several factors:\n",
    "* There is less content to master as score rises.\n",
    "* The remaining content is especially challenging for the student.\n",
    "* The student may feel burntout after several iterations of the same content."
   ]
  },
  {
   "cell_type": "markdown",
   "metadata": {},
   "source": [
    "#### Student Advancement"
   ]
  },
  {
   "cell_type": "markdown",
   "metadata": {},
   "source": [
    "Generally, students are promoted to the next level when they get at least 80% on their post assessment. Let's take a closer look at the trends that allow a student to move from one level to the next."
   ]
  },
  {
   "cell_type": "code",
   "execution_count": null,
   "metadata": {},
   "outputs": [],
   "source": [
    "# Isolate rows where post_assess_score >= 80%\n",
    "next_level_assessments = assessment_progress.loc[assessment_progress['post_assess_score'] >= 0.8]\n",
    "next_level_assessments.shape"
   ]
  },
  {
   "cell_type": "code",
   "execution_count": null,
   "metadata": {},
   "outputs": [],
   "source": [
    "# Calculate elapsed time in months\n",
    "next_level_assessments['elapsed_months'] = round((next_level_assessments['post_assess_date'] - next_level_assessments.index).dt.days / 30.44, 1)\n",
    "next_level_assessments.head()"
   ]
  },
  {
   "cell_type": "code",
   "execution_count": null,
   "metadata": {},
   "outputs": [],
   "source": [
    "next_level_assessments.describe()"
   ]
  },
  {
   "cell_type": "markdown",
   "metadata": {},
   "source": [
    "* Average attempts is 1.5 to move from one level to the next.\n",
    "* Students who complete a given level average 92% on their post-assessment.\n",
    "* It takes roughly 15-17 PKs to reach mastery from initial assessment score near 55%.\n",
    "* It takes roughly 25 (median) to 34 (mean) visits to progress from one level to the next.\n",
    "* It takes roughly 4.5 (median) to 6 (mean) months to progress from one level to the next."
   ]
  },
  {
   "cell_type": "markdown",
   "metadata": {},
   "source": [
    "##### Post Assessment Attempts"
   ]
  },
  {
   "cell_type": "code",
   "execution_count": null,
   "metadata": {},
   "outputs": [],
   "source": [
    "# Visualize\n",
    "plot_histogram(\n",
    "    data=next_level_assessments['#_post_attempts'],\n",
    "    title='Distribution of Post Assessment Attempts',\n",
    "    x_label='Post Assessment Attempts',\n",
    "    mean_median='mean'\n",
    ")"
   ]
  },
  {
   "cell_type": "markdown",
   "metadata": {},
   "source": [
    "Here we see that most students move to the next level within 2 attempts."
   ]
  },
  {
   "cell_type": "markdown",
   "metadata": {},
   "source": [
    "##### PKs per Level"
   ]
  },
  {
   "cell_type": "code",
   "execution_count": null,
   "metadata": {},
   "outputs": [],
   "source": [
    "# Visualize\n",
    "plot_histogram(\n",
    "    data=next_level_assessments['#_pks_mastered'],\n",
    "    title='PKs per Completed Level',\n",
    "    x_label='Number of PKs',\n",
    "    bins=20,\n",
    "    x_ticks_interval=10\n",
    ")"
   ]
  },
  {
   "cell_type": "markdown",
   "metadata": {},
   "source": [
    "Here we see that there is a strong positive skew for PKs required to complete each level. The median is 15.0."
   ]
  },
  {
   "cell_type": "markdown",
   "metadata": {},
   "source": [
    "##### Visits per Level"
   ]
  },
  {
   "cell_type": "code",
   "execution_count": null,
   "metadata": {},
   "outputs": [],
   "source": [
    "# Visualize\n",
    "# Filtered less than 180 to exclude outliers and enhance visual\n",
    "plot_histogram(\n",
    "    data=next_level_assessments['attendance_count_in_center'].loc[next_level_assessments['attendance_count_in_center'] < 180],\n",
    "    title='Visits per Completed Level',\n",
    "    x_label='Number of Visits',\n",
    "    bins=20,\n",
    "    x_ticks_interval=20\n",
    ")"
   ]
  },
  {
   "cell_type": "markdown",
   "metadata": {},
   "source": [
    "Here we see that the number of visits has an extremely large range with strong positive skew. The median number of visits for a student to move to the next level is 25."
   ]
  },
  {
   "cell_type": "markdown",
   "metadata": {},
   "source": [
    "##### Time per Level"
   ]
  },
  {
   "cell_type": "code",
   "execution_count": null,
   "metadata": {},
   "outputs": [],
   "source": [
    "# Visualize\n",
    "# Filtered less than 40 to exclude outliers and enhance visual\n",
    "plot_histogram(\n",
    "    data=next_level_assessments['elapsed_months'].loc[next_level_assessments['elapsed_months'] < 40],\n",
    "    title='Months per Completed Level',\n",
    "    x_label='Months',\n",
    "    bins=30,\n",
    "    x_ticks_interval=5,\n",
    "    mean_median='mean'\n",
    ")"
   ]
  },
  {
   "cell_type": "markdown",
   "metadata": {},
   "source": [
    "Here we see that:\n",
    "* There is a strong positive skew.\n",
    "* Most students move to the next level within the first year.\n",
    "* The median time is 4.6 months."
   ]
  },
  {
   "cell_type": "markdown",
   "metadata": {},
   "source": [
    "`Note`: The discrepancy between number of visits required (and therefore time) to complete a level is influenced by factors such as:\n",
    "* Score on pre-assessment\n",
    "* The portion of the sessions dedicated to PKs vs school work\n",
    "* Consistent student attendance"
   ]
  },
  {
   "cell_type": "markdown",
   "metadata": {},
   "source": [
    "### Recommendations"
   ]
  },
  {
   "cell_type": "markdown",
   "metadata": {},
   "source": [
    "* Highlight ability to work with students of all ability levels\n",
    "* Flag students that are failing to achieve a passing score after their second post-assessment to understand reasons why.\n",
    "    * Target higher pre-assessment scores so students are more likely to pass post-assessment within two attempts.\n",
    "* Monitor PK completion, checking for true mastery along the way.\n",
    "* Use time-based metrics to set expectations upon enrollment and to communicate progress toward long term objectives over the course of their enrollment.\n",
    "    * Visits per Level: 25-35\n",
    "    * Time per Level: 4.6-6 months\n"
   ]
  },
  {
   "cell_type": "markdown",
   "metadata": {},
   "source": [
    "___\n",
    "## Results"
   ]
  },
  {
   "cell_type": "markdown",
   "metadata": {},
   "source": [
    "### Leads"
   ]
  },
  {
   "cell_type": "markdown",
   "metadata": {},
   "source": [
    "* Lead Volume\n",
    "    * Cyclical pattern, except during COVID where it remained at depressed levels.\n",
    "    * New monthly leads average 16.\n",
    "    * New leads are highest in Sept. & Oct. (middle to end of the first quarter).\n",
    "    * New leads are lowest during June & July (summer).\n",
    "\n",
    "* Leads Converted\n",
    "    * Cyclical pattern but with post-COVID years averaging lower than pre-COVID years.\n",
    "    * Average monthly leads converted is 5.\n",
    "    * Lead conversion is highest in Sept, and the first three months of the calendar year.\n",
    "    * Lead conversion is lowest in Apr. & July (end of school year & summer respectively).\n",
    "\n",
    "* Percent Lead Conversion\n",
    "    * Cyclical pattern with poorest performance starting in 2023.\n",
    "    * Average monthly conversion is 33%.\n",
    "    * Highest conversion rate is in May & June (families more serious about getting summer help).\n",
    "    * Lowest conversion is in Aug. & Oct. (opportunity zone!)\n",
    "\n",
    "* Other Info\n",
    "    * Leads are most common for elementary-aged students, specifically grades 2-5.\n",
    "    * Leads who enroll in the program are most commonly from zip codes 1, 5, and 6."
   ]
  },
  {
   "cell_type": "markdown",
   "metadata": {},
   "source": [
    "### Accounts"
   ]
  },
  {
   "cell_type": "markdown",
   "metadata": {},
   "source": [
    "* Average monthly enrollment is 7, indicating mild success with re-enrollments of same students and/or sibling enrollments.\n",
    "* The dominant enrollment type is the Flexible option. Broken down by grade range we see:\n",
    "    * Elementary: 68% enrolled in Flexible option with 22% enrolled in Monthly Sessions.\n",
    "    * Middle: 54/37 split\n",
    "    * High: 41/37 with a large increase in demand for private sessions (18)\n",
    "* Student grade at enrollment shifts slightly upward to grades 4-6.\n",
    "* Average monthly cancelations is 6.\n",
    "    * Highest month is Aug. Possibly explained by families wanting to \"see how this year goes\" before committing to longer term option. (opportunity zone!)\n",
    "    * Lowest month is Nov. (heading toward semester 1 finals).\n",
    "* Net change in enrollments shows similar patterns (positive in Sept., negative in Aug.)\n",
    "    * Average Net change per year is +3.\n",
    "* Enrollment length is 4.6 (median) to 6.2 (mean) months."
   ]
  },
  {
   "cell_type": "markdown",
   "metadata": {},
   "source": [
    "### Student Progress per Assessment Level"
   ]
  },
  {
   "cell_type": "markdown",
   "metadata": {},
   "source": [
    "* Relative student performance is 1.5 (mean) to 1.0 (median) BELOW grade level.\n",
    "* Students progress most upon first post-assessment attempt at 27%.\n",
    "    * Subsequent attempts plateau near 7-8% improvement before declining at the 5th attempt.\n",
    "* Most students pass to the next level within 1-2 attempts.\n",
    "* Per level metrics:\n",
    "    * PKs completed is approximately 15.\n",
    "    * Attendance is 25 sessions.\n",
    "    * Time is 4.6 (median) to 6.0 (mean) months."
   ]
  },
  {
   "cell_type": "markdown",
   "metadata": {},
   "source": [
    "___\n",
    "## Conclusions"
   ]
  },
  {
   "cell_type": "markdown",
   "metadata": {},
   "source": [
    "This analysis leads to the following recommendations:"
   ]
  },
  {
   "cell_type": "markdown",
   "metadata": {},
   "source": [
    "### Leads"
   ]
  },
  {
   "cell_type": "markdown",
   "metadata": {},
   "source": [
    "* Re-engage with ‘open’ leads to push them further in the pipeline.\n",
    "* Demonstrate long term value to unconverted leads, incentivizing them to come in for assessments if necessary.\n",
    "* With lead interest highest  at the end of the first quarter, focus on enrollment conversion during that time.\n",
    "    * Best opportunity is in October since it consistently has the most leads but also the lowest conversion rate.\n",
    "* With lead interest lowest over the summer:\n",
    "    * Focus marketing efforts to capture additional lead interest.\n",
    "    * Focus on retention strategies for enrolled families.\n",
    "* Ensure marketing strategy is tailored to target demographic:\n",
    "    * Parents of late-elementary school students (grades 3-5).\n",
    "    * Residents in zip codes 1, 5, and 6."
   ]
  },
  {
   "cell_type": "markdown",
   "metadata": {},
   "source": [
    "### Accounts"
   ]
  },
  {
   "cell_type": "markdown",
   "metadata": {},
   "source": [
    "* Re-engage ‘inactive’ accounts for re-enrollment.\n",
    "* Create a referral program to simultaneously increase revenue and reputation.\n",
    "* Tailor program offering to grade range.\n",
    "* Upsell current customers (especially high schoolers) by offering private sessions at key times of the year.\n",
    "* Increase retention through active communication and progress reporting, especially leading up to August.\n",
    "* Incentivize longer commitments to increase average length of stay."
   ]
  },
  {
   "cell_type": "markdown",
   "metadata": {},
   "source": [
    "### Student Progress per Assessment Level"
   ]
  },
  {
   "cell_type": "markdown",
   "metadata": {},
   "source": [
    "* Highlight capability to work with students of all ability levels to build trust and credibility with new leads. \n",
    "* Flag students that are failing to achieve a passing score after their second post-assessment to understand reasons why.\n",
    "    * Target higher pre-assessment scores so students are more likely to pass post-assessment within two attempts.\n",
    "* Monitor PK completion, checking for true mastery along the way.\n",
    "* Use time-based metrics to set expectations for interested families and to advise best program to match their objectives to their child's current perforamnce level. These should also be used to communicate progress toward long-term objectives over the course of their enrollment.\n",
    "    * Visits per Level: 25-35\n",
    "    * Time per Level: 4.6-6.0 months"
   ]
  },
  {
   "cell_type": "markdown",
   "metadata": {},
   "source": [
    "___\n",
    "## Next Steps"
   ]
  },
  {
   "cell_type": "markdown",
   "metadata": {},
   "source": [
    "* Use long term and monthly understanding of lead volume and lead conversion/enrollment data to:\n",
    "    * Make informed decisions about promotional offerings:\n",
    "        * Incentives for new families to get started.\n",
    "        * Discounts for continuous enrollment beyond average.\n",
    "    * Provide appropriate staff training at critical times of the year:\n",
    "        * Sales training leading up to October.\n",
    "        * Retention training leading toward the summer.\n",
    "    * Create structured and realistic expectations of management staff performance.\n",
    "        * Enhance staff motivation by offering bonuses for exceptional conversion rates.\n",
    "* Use demographic information to:\n",
    "    * Create unique marketing campaigns based on location.\n",
    "    * Tailor marketing efforts to parents of late-elementary and early-middle school students.\n",
    "* Use student assesssment/enrollment information to:\n",
    "    * Make program recommendations based on student profile.\n",
    "    * Strategize on approaches to extend student enrollment.\n",
    "    * Monitor enrolled students' progress and:\n",
    "        * Intervene when they are not meeting goals.\n",
    "        * Communicate with parents about current standing and confirm/reset expectations for the future."
   ]
  },
  {
   "cell_type": "markdown",
   "metadata": {},
   "source": [
    "___\n",
    "## Opportunities for Improvement"
   ]
  },
  {
   "cell_type": "markdown",
   "metadata": {},
   "source": [
    "* Clean duplicate leads and accounts on the backend so future reports are cleaner and more accurate.\n",
    "* Collect lead information (zip code, student grade, etc.) consistently to allow more insights into customer demographic. This will enhance targeted marketing efforts.\n",
    "    * If possible, record grade of student upon initial interest, at start of each enrollment, and over time to maintain an accurate representation of students' grades at each step in the pipeline.\n",
    "* Ensure all private sessions are recorded as enrollments and not simlply billed to the account.\n",
    "* Always do a post-assessment (progress check) to correctly capture and measure Assessment Progress rather than moving a student to the next level."
   ]
  }
 ],
 "metadata": {
  "kernelspec": {
   "display_name": "Cohort_Env",
   "language": "python",
   "name": "python3"
  },
  "language_info": {
   "codemirror_mode": {
    "name": "ipython",
    "version": 3
   },
   "file_extension": ".py",
   "mimetype": "text/x-python",
   "name": "python",
   "nbconvert_exporter": "python",
   "pygments_lexer": "ipython3",
   "version": "3.8.15"
  }
 },
 "nbformat": 4,
 "nbformat_minor": 2
}
